{
    "nbformat": 4,
    "nbformat_minor": 0,
    "metadata": {
        "colab": {
            "name": "The Battle of Neighborhoods.ipynb",
            "provenance": [],
            "collapsed_sections": []
        },
        "kernelspec": {
            "name": "python3",
            "display_name": "Python 3"
        },
        "language_info": {
            "name": "python"
        }
    },
    "cells": [
        {
            "cell_type": "markdown",
            "metadata": {
                "id": "JLAf-ixpB0Uq"
            },
            "source": "# **A description of the problem and a discussion of the background:**"
        },
        {
            "cell_type": "markdown",
            "metadata": {
                "id": "WlV3WxcNCG3_"
            },
            "source": "An Italian restaurant franchise needs to know the best places to open restaurants in Toronto. The franchise has contacted me to analyze and propose the best strategic points to open its first Italian restaurant in the city of Toronto.\nThe question that the Italian franchise asks me is:\nWhere would you recommend I open it?\nI think it is a correct decision on the part of the Italian company to contact a data analyst who will study the problem to propose the best places in Toronto that guarantee a success analyzing the location data of Foursquare."
        },
        {
            "cell_type": "markdown",
            "metadata": {
                "id": "F9sw5X9rCdGJ"
            },
            "source": "# **A description of the data and how it will be used to solve the problem:**"
        },
        {
            "cell_type": "markdown",
            "metadata": {
                "id": "U6HsQs97Cz-P"
            },
            "source": "I have to take advantage of Foursquare's Location Data to explore or compare neighborhoods or cities in Toronto.\nThis is an interesting data analysis project since the location of the restaurant must be in a strategic place that values competition and human traffic.\nMainly I have to analyze the location of current Italian restaurants in cities and the number of all kinds of restaurants. In this way I can reach the most appropriate conclusion for the Italian franchise."
        }
    ]
}